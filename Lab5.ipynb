{
 "cells": [
  {
   "cell_type": "code",
   "execution_count": 4,
   "metadata": {},
   "outputs": [
    {
     "name": "stdout",
     "output_type": "stream",
     "text": [
      "{'id': 2, 'name': 'Ervin Howell', 'username': 'Antonette', 'email': 'Shanna@melissa.tv', 'address': {'street': 'Victor Plains', 'suite': 'Suite 879', 'city': 'Wisokyburgh', 'zipcode': '90566-7771', 'geo': {'lat': '-43.9509', 'lng': '-34.4618'}}, 'phone': '010-692-6593 x09125', 'website': 'anastasia.net', 'company': {'name': 'Deckow-Crist', 'catchPhrase': 'Proactive didactic contingency', 'bs': 'synergize scalable supply-chains'}} \n",
      "\n",
      "\n",
      "{'id': 3, 'name': 'Clementine Bauch', 'username': 'Samantha', 'email': 'Nathan@yesenia.net', 'address': {'street': 'Douglas Extension', 'suite': 'Suite 847', 'city': 'McKenziehaven', 'zipcode': '59590-4157', 'geo': {'lat': '-68.6102', 'lng': '-47.0653'}}, 'phone': '1-463-123-4447', 'website': 'ramiro.info', 'company': {'name': 'Romaguera-Jacobson', 'catchPhrase': 'Face to face bifurcated interface', 'bs': 'e-enable strategic applications'}} \n",
      "\n",
      "\n",
      "{'id': 4, 'name': 'Patricia Lebsack', 'username': 'Karianne', 'email': 'Julianne.OConner@kory.org', 'address': {'street': 'Hoeger Mall', 'suite': 'Apt. 692', 'city': 'South Elvis', 'zipcode': '53919-4257', 'geo': {'lat': '29.4572', 'lng': '-164.2990'}}, 'phone': '493-170-9623 x156', 'website': 'kale.biz', 'company': {'name': 'Robel-Corkery', 'catchPhrase': 'Multi-tiered zero tolerance productivity', 'bs': 'transition cutting-edge web services'}} \n",
      "\n",
      "\n",
      "{'id': 5, 'name': 'Chelsey Dietrich', 'username': 'Kamren', 'email': 'Lucio_Hettinger@annie.ca', 'address': {'street': 'Skiles Walks', 'suite': 'Suite 351', 'city': 'Roscoeview', 'zipcode': '33263', 'geo': {'lat': '-31.8129', 'lng': '62.5342'}}, 'phone': '(254)954-1289', 'website': 'demarco.info', 'company': {'name': 'Keebler LLC', 'catchPhrase': 'User-centric fault-tolerant solution', 'bs': 'revolutionize end-to-end systems'}} \n",
      "\n",
      "\n",
      "2019-01-11-json.txt 存檔搂\n"
     ]
    }
   ],
   "source": [
    "#讓python的request模組去訪問https://jsonplaceholder.typicode.com/users\n",
    "\n",
    "import requests\n",
    "import datetime\n",
    "import json\n",
    "import os\n",
    "\n",
    "x=0\n",
    "data=[]\n",
    "#---------------------------------------------------------\n",
    "r = requests.get('https://jsonplaceholder.typicode.com/users')\n",
    "#取得第2,3,4,5 筆資料\n",
    "#將內容分段存入\n",
    "for part in r.json()[1:5]:\n",
    "        print(part,'\\n\\n')\n",
    "        data.append(json.dumps(r.json()[x+1]))\n",
    "        x=x+1\n",
    "#---------------------------------------------------------\n",
    "#獲取當天日期\n",
    "nowd=datetime.datetime.utcnow().strftime('%Y-%m-%d')\n",
    "\n",
    "#日期做檔名開頭\n",
    "filename=nowd+\"-json.txt\"\n",
    "\n",
    "#-------------------------------------------------------\n",
    "#將2345筆資料內容寫入檔案中\n",
    "openfile = open('./'+str(filename),'w')\n",
    "\n",
    "# 將jsonf1寫入testjson檔案中\n",
    "for i in range(0,4):\n",
    "    openfile.write(data[i]+\"\\n\\n\")\n",
    "    \n",
    "# 將檔案testjson關閉\n",
    "openfile.close()\n",
    "\n",
    "#--------------------------------------------------------\n",
    "print(filename,\"存檔搂\")\n"
   ]
  },
  {
   "cell_type": "code",
   "execution_count": null,
   "metadata": {},
   "outputs": [],
   "source": []
  }
 ],
 "metadata": {
  "kernelspec": {
   "display_name": "Python 3",
   "language": "python",
   "name": "python3"
  },
  "language_info": {
   "codemirror_mode": {
    "name": "ipython",
    "version": 3
   },
   "file_extension": ".py",
   "mimetype": "text/x-python",
   "name": "python",
   "nbconvert_exporter": "python",
   "pygments_lexer": "ipython3",
   "version": "3.7.2"
  }
 },
 "nbformat": 4,
 "nbformat_minor": 2
}
